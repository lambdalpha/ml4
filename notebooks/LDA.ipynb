{
 "cells": [
  {
   "cell_type": "markdown",
   "metadata": {},
   "source": [
    "# Latent Dirichlet Allocation\n",
    "+ pLSA\n",
    "+ LDA\n",
    "+ Gibbs Sampling\n",
    "+ Conjugate Priors: Dirichlet -> Multinomial, Beta -> Binomial\n",
    "+ Generative probability model\n",
    "\n",
    "## Graphical representation\n",
    "<img src=\"LDA2.png\">"
   ]
  },
  {
   "cell_type": "markdown",
   "metadata": {
    "collapsed": true
   },
   "source": [
    "## Latent Dirichlet allocation\n",
    "- LDA is a generative probabilistic model of a coupus\n",
    "- Basic idea\n",
    ">+ Documents are represented as **random mixtures** over **latent topics**\n",
    " + Each topic is characterized by a distribution over words.\n",
    "\n",
    "- LDA assumes the following generative process for each document **w** in a corpus **D**:\n",
    "> 1. Choose $N$ ~ $Possion(\\xi)$\n",
    "  2. Choose $\\theta$ ~ $Dir(\\alpha)$\n",
    "  3. For each of the N words $w_n$:\n",
    "  >> (a) Choose a topic $z_n$ ~ $Multinomial(\\theta)$ <br>\n",
    "     (b) Choose a word $w_n$ from $p(w_n|z_n, \\varphi)$, a multinomial probability conditioned on the topic $z_n$\n",
    "\n",
    "\n",
    "- Assumptions\n",
    "> 1. Dim of Dirichlet distribution is fixed as k(so the dim of topics z)\n",
    "  2. Word probabilities are parameterized by a $k\\times V $ matrix $\\beta$, $\\beta_{ij} = p(w^j|z^i=1)$. This is treated as a fixed quantity that is to be estimated.\n",
    "  3. The Possion distribution is not critical to anything that follows and more realistic document length distributions can be used as needed.\n",
    "  4. N is independent of all the other data generating variables ($theta$ and $z$). It is thus an ancillary variable and we will generally ignore its randomness in the subsequent development.\n"
   ]
  },
  {
   "cell_type": "markdown",
   "metadata": {},
   "source": []
  },
  {
   "cell_type": "code",
   "execution_count": 2,
   "metadata": {
    "collapsed": false
   },
   "outputs": [
    {
     "name": "stdout",
     "output_type": "stream",
     "text": [
      "defaultdict(<class 'int'>, {'banana': 2, 'apple': 2, 'strawberry': 1, 'lemon': 1})\n"
     ]
    }
   ],
   "source": [
    "from collections import defaultdict\n",
    "\n",
    "words = \"apple banana apple strawberry banana lemon\"\n",
    "words = words.split()\n",
    "result = defaultdict(int)\n",
    "for word in words:\n",
    "    result[word] += 1\n",
    "\n",
    "print(result)"
   ]
  },
  {
   "cell_type": "code",
   "execution_count": null,
   "metadata": {
    "collapsed": true
   },
   "outputs": [],
   "source": [
    "import numpy as np"
   ]
  },
  {
   "cell_type": "code",
   "execution_count": null,
   "metadata": {
    "collapsed": true
   },
   "outputs": [],
   "source": [
    "import numpy as np\n",
    "class LDA:\n",
    "    def __init__(self, tf_matrix, alpha, beta):\n",
    "        self.alpha = alpha\n",
    "        self.beta  = beta\n",
    "        self.tf_matrix\n",
    "        self.phi = np.zero\n",
    "    def gibbs_sampling(self):\n",
    "        \n",
    "        \n",
    "\n",
    "\n"
   ]
  }
 ],
 "metadata": {
  "kernelspec": {
   "display_name": "Python 3",
   "language": "python",
   "name": "python3"
  },
  "language_info": {
   "codemirror_mode": {
    "name": "ipython",
    "version": 3
   },
   "file_extension": ".py",
   "mimetype": "text/x-python",
   "name": "python",
   "nbconvert_exporter": "python",
   "pygments_lexer": "ipython3",
   "version": "3.4.3"
  }
 },
 "nbformat": 4,
 "nbformat_minor": 0
}
