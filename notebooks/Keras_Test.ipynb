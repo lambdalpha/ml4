{
 "cells": [
  {
   "cell_type": "code",
   "execution_count": 1,
   "metadata": {
    "collapsed": false
   },
   "outputs": [
    {
     "name": "stdout",
     "output_type": "stream",
     "text": [
      "Using Theano backend.\n"
     ]
    },
    {
     "name": "stderr",
     "output_type": "stream",
     "text": [
      "Using gpu device 0: GeForce GTX 970 (CNMeM is disabled)\n"
     ]
    }
   ],
   "source": [
    "from keras.models import Sequential\n",
    "model = Sequential()"
   ]
  },
  {
   "cell_type": "code",
   "execution_count": 2,
   "metadata": {
    "collapsed": false
   },
   "outputs": [],
   "source": [
    "from keras.layers.core import Dense, Activation\n",
    "model.add(Dense(output_dim=64, input_dim=100, init='glorot_uniform'))\n",
    "model.add(Activation(\"relu\"))\n",
    "model.add(Dense(output_dim=10, init='glorot_uniform'))\n",
    "model.add(Activation(\"softmax\"))"
   ]
  },
  {
   "cell_type": "code",
   "execution_count": null,
   "metadata": {
    "collapsed": true
   },
   "outputs": [],
   "source": []
  },
  {
   "cell_type": "code",
   "execution_count": 1,
   "metadata": {
    "collapsed": true
   },
   "outputs": [],
   "source": [
    "import pandas as pd\n",
    "digits = pd.read_csv(\"/home/alpha/ML/data/mninst/train.csv\")"
   ]
  },
  {
   "cell_type": "code",
   "execution_count": 2,
   "metadata": {
    "collapsed": false
   },
   "outputs": [
    {
     "data": {
      "text/plain": [
       "(42000, 785)"
      ]
     },
     "execution_count": 2,
     "metadata": {},
     "output_type": "execute_result"
    }
   ],
   "source": [
    "digits.shape"
   ]
  },
  {
   "cell_type": "code",
   "execution_count": 3,
   "metadata": {
    "collapsed": false
   },
   "outputs": [],
   "source": [
    "train = digits.values[0:35000]\n",
    "test = digits.values[35000:]"
   ]
  },
  {
   "cell_type": "code",
   "execution_count": 4,
   "metadata": {
    "collapsed": false
   },
   "outputs": [],
   "source": [
    "X_train = train[:,1:]\n",
    "y_train = train[:,0]\n",
    "X_test = test[:,1:]\n",
    "y_test = test[:,0]"
   ]
  },
  {
   "cell_type": "code",
   "execution_count": 5,
   "metadata": {
    "collapsed": false
   },
   "outputs": [
    {
     "data": {
      "text/plain": [
       "array([1, 0, 1, ..., 7, 7, 0])"
      ]
     },
     "execution_count": 5,
     "metadata": {},
     "output_type": "execute_result"
    }
   ],
   "source": [
    "y_train"
   ]
  },
  {
   "cell_type": "code",
   "execution_count": 6,
   "metadata": {
    "collapsed": false
   },
   "outputs": [
    {
     "name": "stdout",
     "output_type": "stream",
     "text": [
      "Using Theano backend.\n",
      "X_train shape: (35000, 1, 28, 28)\n",
      "35000 train samples\n",
      "7000 test samples\n",
      "Train on 35000 samples, validate on 7000 samples\n",
      "Epoch 1/12\n",
      "35000/35000 [==============================] - 11s - loss: 0.3373 - acc: 0.8954 - val_loss: 0.0880 - val_acc: 0.9744\n",
      "Epoch 2/12\n",
      "35000/35000 [==============================] - 11s - loss: 0.1167 - acc: 0.9653 - val_loss: 0.0543 - val_acc: 0.9819\n",
      "Epoch 3/12\n",
      "35000/35000 [==============================] - 11s - loss: 0.0828 - acc: 0.9748 - val_loss: 0.0667 - val_acc: 0.9794\n",
      "Epoch 4/12\n",
      "35000/35000 [==============================] - 11s - loss: 0.0675 - acc: 0.9795 - val_loss: 0.0637 - val_acc: 0.9807\n",
      "Epoch 5/12\n",
      "35000/35000 [==============================] - 11s - loss: 0.0537 - acc: 0.9836 - val_loss: 0.0388 - val_acc: 0.9879\n",
      "Epoch 6/12\n",
      "35000/35000 [==============================] - 11s - loss: 0.0487 - acc: 0.9852 - val_loss: 0.0405 - val_acc: 0.9884\n",
      "Epoch 7/12\n",
      "35000/35000 [==============================] - 11s - loss: 0.0433 - acc: 0.9861 - val_loss: 0.0418 - val_acc: 0.9879\n",
      "Epoch 8/12\n",
      "35000/35000 [==============================] - 11s - loss: 0.0376 - acc: 0.9880 - val_loss: 0.0442 - val_acc: 0.9893\n",
      "Epoch 9/12\n",
      "35000/35000 [==============================] - 11s - loss: 0.0333 - acc: 0.9898 - val_loss: 0.0388 - val_acc: 0.9889\n",
      "Epoch 10/12\n",
      "35000/35000 [==============================] - 11s - loss: 0.0320 - acc: 0.9895 - val_loss: 0.0411 - val_acc: 0.9879\n",
      "Epoch 11/12\n",
      "35000/35000 [==============================] - 11s - loss: 0.0281 - acc: 0.9905 - val_loss: 0.0500 - val_acc: 0.9883\n",
      "Epoch 12/12\n",
      "35000/35000 [==============================] - 11s - loss: 0.0267 - acc: 0.9915 - val_loss: 0.0385 - val_acc: 0.9896\n",
      "Test score: 0.0384761382709\n",
      "Test accuracy: 0.989571428571\n"
     ]
    },
    {
     "name": "stderr",
     "output_type": "stream",
     "text": [
      "Using gpu device 0: GeForce GTX 970 (CNMeM is disabled)\n"
     ]
    }
   ],
   "source": [
    "'''Train a simple convnet on the MNIST dataset.\n",
    "Run on GPU: THEANO_FLAGS=mode=FAST_RUN,device=gpu,floatX=float32 python mnist_cnn.py\n",
    "Get to 99.25% test accuracy after 12 epochs (there is still a lot of margin for parameter tuning).\n",
    "16 seconds per epoch on a GRID K520 GPU.\n",
    "'''\n",
    "\n",
    "from __future__ import print_function\n",
    "import numpy as np\n",
    "np.random.seed(1337)  # for reproducibility\n",
    "\n",
    "from keras.datasets import mnist\n",
    "from keras.models import Sequential\n",
    "from keras.layers.core import Dense, Dropout, Activation, Flatten\n",
    "from keras.layers.convolutional import Convolution2D, MaxPooling2D\n",
    "from keras.utils import np_utils\n",
    "\n",
    "batch_size = 128\n",
    "nb_classes = 10\n",
    "nb_epoch = 12\n",
    "\n",
    "# input image dimensions\n",
    "img_rows, img_cols = 28, 28\n",
    "# number of convolutional filters to use\n",
    "nb_filters = 32\n",
    "# size of pooling area for max pooling\n",
    "nb_pool = 2\n",
    "# convolution kernel size\n",
    "nb_conv = 3\n",
    "\n",
    "# the data, shuffled and split between tran and test sets\n",
    "#(X_train, y_train), (X_test, y_test) = mnist.load_data()\n",
    "\n",
    "X_train = X_train.reshape(X_train.shape[0], 1, img_rows, img_cols)\n",
    "X_test = X_test.reshape(X_test.shape[0], 1, img_rows, img_cols)\n",
    "X_train = X_train.astype('float32')\n",
    "X_test = X_test.astype('float32')\n",
    "X_train /= 255\n",
    "X_test /= 255\n",
    "print('X_train shape:', X_train.shape)\n",
    "print(X_train.shape[0], 'train samples')\n",
    "print(X_test.shape[0], 'test samples')\n",
    "\n",
    "# convert class vectors to binary class matrices\n",
    "Y_train = np_utils.to_categorical(y_train, nb_classes)\n",
    "Y_test = np_utils.to_categorical(y_test, nb_classes)\n",
    "\n",
    "model = Sequential()\n",
    "\n",
    "model.add(Convolution2D(nb_filters, nb_conv, nb_conv,\n",
    "                        border_mode='valid',\n",
    "                        input_shape=(1, img_rows, img_cols)))\n",
    "model.add(Activation('relu'))\n",
    "model.add(Convolution2D(nb_filters, nb_conv, nb_conv))\n",
    "model.add(Activation('relu'))\n",
    "model.add(MaxPooling2D(pool_size=(nb_pool, nb_pool)))\n",
    "model.add(Dropout(0.25))\n",
    "\n",
    "model.add(Flatten())\n",
    "model.add(Dense(128))\n",
    "model.add(Activation('relu'))\n",
    "model.add(Dropout(0.5))\n",
    "model.add(Dense(nb_classes))\n",
    "model.add(Activation('softmax'))\n",
    "\n",
    "model.compile(loss='categorical_crossentropy', optimizer='adadelta')\n",
    "\n",
    "model.fit(X_train, Y_train, batch_size=batch_size, nb_epoch=nb_epoch,\n",
    "          show_accuracy=True, verbose=1, validation_data=(X_test, Y_test))\n",
    "score = model.evaluate(X_test, Y_test, show_accuracy=True, verbose=0)\n",
    "print('Test score:', score[0])\n",
    "print('Test accuracy:', score[1])"
   ]
  },
  {
   "cell_type": "code",
   "execution_count": null,
   "metadata": {
    "collapsed": true
   },
   "outputs": [],
   "source": []
  }
 ],
 "metadata": {
  "kernelspec": {
   "display_name": "Python 3",
   "language": "python",
   "name": "python3"
  },
  "language_info": {
   "codemirror_mode": {
    "name": "ipython",
    "version": 3
   },
   "file_extension": ".py",
   "mimetype": "text/x-python",
   "name": "python",
   "nbconvert_exporter": "python",
   "pygments_lexer": "ipython3",
   "version": "3.4.3"
  }
 },
 "nbformat": 4,
 "nbformat_minor": 0
}
