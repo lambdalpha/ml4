{
 "cells": [
  {
   "cell_type": "markdown",
   "metadata": {},
   "source": [
    "# 1 Signal\n",
    "## 1.1 Signal as quantity changes over time or space\n",
    "+ **Signals are everywhere** \n",
    "> We live in a world full of signals, we can't feel them, we can't see them, but we can't live a modern life without them.\n",
    "\n",
    "+ **Signals contain information**\n",
    "+ **Analogous and Digital**\n",
    "+ **Signal Processing**\n",
    "+ **Nyquist Frequency**\n",
    "\n",
    "\n",
    "## 1.2 Digital Signal Processing\n",
    "\n",
    "+ Fourier Series\n",
    "    $$ f(x) = \\frac{1}{2}a_{0} + \\sum_{n=1}^{\\infty} a_{n} \\cos(nx) + \\sum_{n=1}^{\\infty}b_{n}\\sin(nx) $$\n",
    "    \n",
    "    $$ \\ $$\n",
    "    $$ \\mathscr{F}(w) = \\int_{-\\infty}^{\\infty}f(z)e^{-2\\pi iwz} d z   $$\n",
    "    $$ f(z) = \\int_{\\infty}^{\\infty}\\mathscr{F}(w)e^{2\\pi iwz} d w $$"
   ]
  },
  {
   "cell_type": "markdown",
   "metadata": {},
   "source": []
  },
  {
   "cell_type": "code",
   "execution_count": 8,
   "metadata": {
    "collapsed": false
   },
   "outputs": [
    {
     "name": "stdout",
     "output_type": "stream",
     "text": [
      "fft [  3.60000000e+01 +0.00000000e+00j  -1.49282032e+01 +4.64098209e-15j\n",
      "  -2.17653682e-15 -6.43929354e-15j  -2.00000000e+00 +0.00000000e+00j\n",
      "  -1.75440223e-15 -2.88657986e-15j  -1.07179677e+00 -2.84267064e-15j\n",
      "   0.00000000e+00 +0.00000000e+00j  -1.07179677e+00 -1.53235762e-15j\n",
      "   3.95289366e-15 -4.66293670e-15j  -2.00000000e+00 +0.00000000e+00j\n",
      "   3.53075907e-15 -2.22044605e-16j  -1.49282032e+01 +1.39449009e-14j]\n",
      "rfft [  3.60000000e+01 +0.00000000e+00j  -1.49282032e+01 +4.64098209e-15j\n",
      "   3.53075907e-15 +2.22044605e-16j  -2.00000000e+00 +0.00000000e+00j\n",
      "  -1.75440223e-15 -2.88657986e-15j  -1.07179677e+00 +1.53235762e-15j\n",
      "   0.00000000e+00 +0.00000000e+00j]\n"
     ]
    }
   ],
   "source": [
    "import numpy as np\n",
    "a = [0,1,2,3,4,5,6,5,4,3,2,1]\n",
    "print(\"fft\",np.fft.fft(a))\n",
    "print(\"rfft\", np.fft.rfft(a))"
   ]
  },
  {
   "cell_type": "code",
   "execution_count": 10,
   "metadata": {
    "collapsed": false
   },
   "outputs": [
    {
     "name": "stdout",
     "output_type": "stream",
     "text": [
      "[  5.00000000e-01 +0.00000000e+00j   8.33333333e-02 +3.11004234e-01j\n",
      "  -6.47630098e-17 -1.88709569e-16j   8.33333333e-02 +8.33333333e-02j\n",
      "   4.62592927e-18 +4.11565977e-17j   8.33333333e-02 +2.23290994e-02j\n",
      "   0.00000000e+00 +0.00000000e+00j   8.33333333e-02 -2.23290994e-02j\n",
      "  -1.01770444e-16 +2.21761149e-17j   8.33333333e-02 -8.33333333e-02j\n",
      "   7.86407976e-17 -2.26528806e-17j   8.33333333e-02 -3.11004234e-01j]\n"
     ]
    }
   ],
   "source": [
    "a = [1,1,1,1,1,1]\n",
    "b = np.fft.ifft(a, 12)\n",
    "print(b)"
   ]
  }
 ],
 "metadata": {
  "kernelspec": {
   "display_name": "Python 3",
   "language": "python",
   "name": "python3"
  },
  "language_info": {
   "codemirror_mode": {
    "name": "ipython",
    "version": 3
   },
   "file_extension": ".py",
   "mimetype": "text/x-python",
   "name": "python",
   "nbconvert_exporter": "python",
   "pygments_lexer": "ipython3",
   "version": "3.4.3"
  }
 },
 "nbformat": 4,
 "nbformat_minor": 0
}
